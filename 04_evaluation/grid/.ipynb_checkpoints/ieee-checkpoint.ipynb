{
 "cells": [
  {
   "cell_type": "code",
   "execution_count": 1,
   "metadata": {},
   "outputs": [
    {
     "data": {
      "text/plain": [
       "[[92.01, 93.06, 93.81, 91.21, 94.07, 93.84, 93.24, 94.68, 93.82],\n",
       " [93.56, 93.59, 94.2, 91.97, 94.27, 94.0, 94.33, 95.0, 94.5],\n",
       " [93.21, 93.39, 94.58, 91.58, 94.6, 94.06, 94.79, 95.04, 94.45],\n",
       " [92.49, 93.5, 93.85, 91.49, 94.39, 94.22, 94.1, 95.16, 94.42],\n",
       " [93.53, 93.85, 94.59, 91.82, 94.79, 94.6, 94.39, 94.86, 94.61],\n",
       " [93.61, 93.88, 94.93, 92.19, 94.69, 94.65, 94.73, 95.05, 94.61],\n",
       " [92.83, 93.38, 94.17, 91.63, 94.23, 94.05, 93.74, 94.96, 94.56],\n",
       " [92.59, 93.07, 94.11, 91.81, 94.18, 94.07, 94.19, 95.03, 94.59],\n",
       " [93.15, 93.25, 93.7, 91.59, 94.52, 94.24, 94.53, 95.3, 94.76],\n",
       " [94.14, 93.98, 94.85, 91.64, 95.01, 94.47, 95.07, 95.79, 95.32],\n",
       " [92.95, 94.03, 94.48, 94.09, 94.47, 94.17, 93.41, 94.37, 94.36]]"
      ]
     },
     "execution_count": 1,
     "metadata": {},
     "output_type": "execute_result"
    }
   ],
   "source": [
    "import collections\n",
    "metric = None\n",
    "all_scores = collections.defaultdict(list)\n",
    "all_names = collections.defaultdict(list)\n",
    "with open(\"grid-table-model.csv\") as f:\n",
    "    for line in f.read().split(\"\\n\"):\n",
    "        if line.startswith(\"#\"):\n",
    "            metric = line[1:].strip()\n",
    "        else:\n",
    "            parts = line.split(\",\")\n",
    "            all_scores[metric].append(list(map(float, parts[1:])))\n",
    "            all_names[metric].append(parts[0])\n",
    "\n",
    "official_backbone_names = dict(\n",
    "    vgg16=\"VGG16\",\n",
    "    resnet34=\"ResNet-34\",\n",
    "    resnet50=\"ResNet-50\",\n",
    "    seresnet34=\"SE-ResNet-34\",\n",
    "    seresnet50=\"SE-ResNet-50\",\n",
    "    seresnext50=\"SE-ResNeXt-50\",\n",
    "    efficientnetb1=\"EfficientNet-B1\",\n",
    "    efficientnetb2=\"EfficientNet-B2\",\n",
    "    inceptionv3=\"Inception-v3\",\n",
    "    inceptionresnetv2=\"Inception-ResNet-v2\",\n",
    "    dhSegment=\"dhSegment\")\n",
    "official_names = [official_backbone_names[n] for n in all_names[\"blkx-matthews\"]]\n",
    "\n",
    "all_scores[\"blk-matthews\"]"
   ]
  },
  {
   "cell_type": "code",
   "execution_count": 2,
   "metadata": {},
   "outputs": [
    {
     "data": {
      "text/plain": [
       "['vgg16',\n",
       " 'resnet34',\n",
       " 'efficientnetb1',\n",
       " 'efficientnetb2',\n",
       " 'seresnet34',\n",
       " 'resnet50',\n",
       " 'inceptionv3',\n",
       " 'seresnet50',\n",
       " 'seresnext50',\n",
       " 'dhSegment',\n",
       " 'inceptionresnetv2']"
      ]
     },
     "execution_count": 2,
     "metadata": {},
     "output_type": "execute_result"
    }
   ],
   "source": [
    "import numpy as np\n",
    "what = \"blkx-matthews\"\n",
    "data = np.array(all_scores[what])\n",
    "[all_names[what][i] for i in np.argsort(np.median(data, axis=1))]"
   ]
  },
  {
   "cell_type": "code",
   "execution_count": 3,
   "metadata": {},
   "outputs": [
    {
     "data": {
      "text/plain": [
       "['0.3/-',\n",
       " '0.6/h',\n",
       " '0.9/v',\n",
       " '1.1/h',\n",
       " '1.1/v',\n",
       " '1.1/hv',\n",
       " '1.1/-',\n",
       " '3.0/v',\n",
       " '3.9/hv']"
      ]
     },
     "execution_count": 3,
     "metadata": {},
     "output_type": "execute_result"
    }
   ],
   "source": [
    "conf_str = \"$0.3/-$ & $0.6/h$ & $0.9/v$ & $1.1/h$ & $1.1/v$ & $1.1/hv$ & $1.1/-$ & $3.0/v$ & $3.9/hv$\"\n",
    "configs = [x.strip(\"$\") for x in conf_str.split(\" & \")]\n",
    "configs\n"
   ]
  },
  {
   "cell_type": "code",
   "execution_count": 15,
   "metadata": {},
   "outputs": [
    {
     "data": {
      "image/png": "[encoded data removed]",
      "text/plain": [
       "<Figure size 288x432 with 2 Axes>"
      ]
     },
     "metadata": {
      "needs_background": "light"
     },
     "output_type": "display_data"
    }
   ],
   "source": [
    "import matplotlib.pyplot as plt\n",
    "import matplotlib\n",
    "import matplotlib.gridspec as gridspec\n",
    "import numpy as np\n",
    "\n",
    "plt.rcParams.update({'font.size': 10})\n",
    "\n",
    "matplotlib.rcParams['ps.useafm'] = True\n",
    "matplotlib.rcParams['pdf.use14corefonts'] = True\n",
    "matplotlib.rcParams['text.usetex'] = False\n",
    "\n",
    "#matplotlib.rcParams['font.serif'] = \"Times-Roman\"\n",
    "matplotlib.rcParams['font.family'] = \"Times\"\n",
    "\n",
    "ordering = [\n",
    "    'resnet34',\n",
    "    'seresnet34',\n",
    "    'resnet50',\n",
    "    'seresnet50',\n",
    "    'seresnext50',\n",
    "    'vgg16',\n",
    "    'efficientnetb1',\n",
    "    'efficientnetb2',\n",
    "    'inceptionv3',\n",
    "    'inceptionresnetv2',\n",
    "    'dhSegment']\n",
    "reordering = np.array([all_names[\"blkx-matthews\"].index(n) for n in ordering])\n",
    "\n",
    "ax1, ax2 = None, None\n",
    "\n",
    "if True:\n",
    "    f, (ax0, ax1) = plt.subplots(\n",
    "        2, 1, sharex=True, figsize=(4, 6),\n",
    "        gridspec_kw={'height_ratios': [1.5, 2]})\n",
    "else:\n",
    "    f, ax2 = plt.subplots(1, 1, sharey=False, figsize=(4, 4))\n",
    "        \n",
    "#fig = plt.figure(constrained_layout=True, figsize=(4, 5))\n",
    "#gs = fig.add_gridspec(3, 1)\n",
    "#ax0 = fig.add_subplot(gs[0, :])\n",
    "#ax1 = fig.add_subplot(gs[1:, :], sharex=ax0)\n",
    "\n",
    "#f, (ax1, ax2) = plt.subplots(1, 2, sharey=False, figsize=(12, 6))\n",
    "\n",
    "if ax1:\n",
    "    for i, what in enumerate([\"blk-matthews\", \"blkx-matthews\"]):\n",
    "        x_pos = np.array(range(len(all_names[what]))) + i * 0.3\n",
    "        data = np.array(all_scores[what])\n",
    "        #print(data.shape, len(x_pos), np.median(data, axis=0).shape)\n",
    "        performance = np.median(data, axis=1)[reordering]\n",
    "        err = [np.abs(np.min(data, axis=1) - performance), np.max(data, axis=1) - performance]\n",
    "        ax1.errorbar(x_pos, performance, err,\n",
    "            marker='', fmt='+', lw=1, alpha=1)\n",
    "        ax1.bar(x_pos, performance, align='center', alpha=1, width=0.2, label=what.split(\"-\")[0])\n",
    "        \n",
    "    for i, what in enumerate([\"v\", \"h\", \"hv\"]):\n",
    "        #if what == 1:\n",
    "        #    sel = np.array([0, 1, 2])\n",
    "        #if what == 2:\n",
    "        #    sel = np.array([3, 4, 5])\n",
    "        #if what == 3:\n",
    "        #    sel = np.array([6, 7, 8])\n",
    "            \n",
    "        \n",
    "        if what == \"v\":\n",
    "            #sel = np.array([0, 1, 2])\n",
    "            sel = np.array([2, 4, 7])\n",
    "            #sel = np.array([0, 2, 4, 5, 6, 7, 8])\n",
    "        elif what == \"h\":\n",
    "            #sel = np.array([3, 4, 5, 6, 7, 8])\n",
    "            sel = np.array([1, 3])\n",
    "            #sel = np.array([1, 2, 3, 4, 5, 7, 8])\n",
    "        elif what == \"hv\":\n",
    "            sel = np.array([5, 8])\n",
    "        x_pos = np.array(range(len(all_names[\"blk-matthews\"]))) + i * 0.3\n",
    "        data_blk = np.array(all_scores[\"blk-matthews\"])\n",
    "        data_blkx = np.array(all_scores[\"blkx-matthews\"])\n",
    "        diff = (data_blk - data_blkx)[:, sel]\n",
    "        dec_median = np.median(diff, axis=1)[reordering]\n",
    "        err = [np.abs(np.min(diff, axis=1)[reordering] - dec_median),\n",
    "            np.max(diff, axis=1)[reordering] - dec_median]\n",
    "        #print(err)\n",
    "        ax0.errorbar(x_pos, dec_median, err,\n",
    "            marker='+', fmt='+', lw=2, alpha=0.75, label=what)\n",
    "        #ax0.bar(x_pos, blkx_decrease, align='center', alpha=1, width=0.5, label=what.split(\"-\")[0])\n",
    "    ax0.set_ylabel('Delta of MCC*')\n",
    "    \n",
    "    ax1.set_xticks(x_pos)\n",
    "    ax1.set_xticklabels([official_names[i] for i in reordering], rotation=45, ha=\"right\")\n",
    "    ax1.set_ylabel('MCC*')\n",
    "    ax1.set_ylim(93, 96)\n",
    "    #ax1.set_yscale(\"log\")\n",
    "\n",
    "if ax2:\n",
    "    for i, what in enumerate([\"sep-matthews\",]):\n",
    "        x_pos = np.array(range(len(all_names[what]))) + i * 0.25\n",
    "        data = np.array(all_scores[what])\n",
    "        performance = np.median(data, axis=1)[reordering]\n",
    "        err = [np.abs(np.min(data, axis=1) - performance), np.max(data, axis=1) - performance]\n",
    "        ax2.errorbar(x_pos, performance, err,\n",
    "            marker='+', fmt='+', lw=2, alpha=0.25)\n",
    "        ax2.bar(x_pos, performance, align='center', alpha=0.5, width=0.25, label=\"sep\")\n",
    "\n",
    "        for j, p in enumerate(performance):\n",
    "            if p < 90:\n",
    "                ax2.text(x_pos[j] - 0.2, 90.1, \"(at %.1f%%)\" % p, rotation=90)\n",
    "    ax2.set_xticks(x_pos)\n",
    "    ax2.set_xticklabels([official_names[i] for i in reordering], rotation=45, ha=\"right\")\n",
    "    ax2.set_ylabel('MCC*')\n",
    "    ax2.set_ylim(90, 92.25)\n",
    "    #ax2.set_yscale(\"log\")\n",
    "\n",
    "if ax1:\n",
    "    handles, labels = ax1.get_legend_handles_labels()\n",
    "    ax1.legend(handles, labels, loc=\"upper left\")\n",
    "\n",
    "    ax0.set_ylim(-0.25, 1)\n",
    "    handles, labels = ax0.get_legend_handles_labels()\n",
    "    ax0.legend(handles, labels, loc=\"upper right\")\n",
    "    \n",
    "if ax2:\n",
    "    handles, labels = ax2.get_legend_handles_labels()\n",
    "    ax2.legend(handles, labels)\n",
    "\n",
    "#ax1.relim()\n",
    "#ax1.autoscale()\n",
    "\n",
    "if ax1:\n",
    "    plt.savefig(\"/Users/arbeit/tmp/fig-grid-a.pdf\", transparent=True, bbox_inches='tight')\n",
    "if ax2:\n",
    "    plt.savefig(\"/Users/arbeit/tmp/fig-grid-b.pdf\", transparent=True, bbox_inches='tight')\n",
    "\n",
    "#import tikzplotlib\n",
    "#tikzplotlib.save(\"/Users/arbeit/tmp/ieee1.tex\")"
   ]
  },
  {
   "cell_type": "code",
   "execution_count": 5,
   "metadata": {},
   "outputs": [
    {
     "data": {
      "image/png": "[encoded data removed]",
      "text/plain": [
       "<Figure size 360x252 with 1 Axes>"
      ]
     },
     "metadata": {
      "needs_background": "light"
     },
     "output_type": "display_data"
    }
   ],
   "source": [
    "#f, ax1 = plt.subplots(1, 1, sharey=True, figsize=(4, 4))\n",
    "f, ax1 = plt.subplots(1, 1, sharey=True, figsize=(5, 3.5))\n",
    "\n",
    "candidates = [\"inceptionresnetv2\", \"seresnext50\", \"dhSegment\", \"resnet34\"]\n",
    "#candidates = [\"vgg16\", \"seresnet34\", \"efficientnetb1\", \"efficientnetb1\"]\n",
    "#candidates = all_names[\"blkx-matthews\"]\n",
    "\n",
    "#config_set = [0, 1, 2, 7, 8]\n",
    "#config_set = [3, 4, 5, 6]\n",
    "config_set = list(range(9))\n",
    "\n",
    "for ax, what, cand in ((ax1, \"blkx-matthews\", candidates),):\n",
    "\n",
    "    h = 1 / (len(cand) + 1)\n",
    "    for i, backbone in enumerate(cand):\n",
    "        y_pos = np.array(range(len(config_set))) - i * h\n",
    "        k = all_names[what].index(backbone)\n",
    "        performance = np.array(list(all_scores[what][k]))\n",
    "        performance = performance[np.array(config_set)]\n",
    "        performance = list(reversed(performance))\n",
    "        #performance = np.median(data, axis=1)\n",
    "        #err = [np.abs(np.min(data, axis=1) - performance), np.max(data, axis=1) - performance]\n",
    "        #ax1.errorbar(x_pos, performance, err,\n",
    "        #    marker='+', fmt='+', lw=2, alpha=0.25)\n",
    "        #ax1.bar(x_pos, performance, align='center', alpha=1, width=0.25)\n",
    "        ax.barh(y_pos, performance, align='center', height=h * 0.4, label=official_backbone_names[backbone])\n",
    "    \n",
    "#ax1.set_xticks(x_pos)\n",
    "#ax1.set_xticklabels(official_names, rotation=90)\n",
    "#ax1.set_ylabel('Median and Maximum of Matthews Correlation Coefficient')\n",
    "if ax1:\n",
    "    ax1.set_xlim(91, 96)\n",
    "    ax1.set_yticks(list(reversed(range(len(config_set)))))\n",
    "    ax1.set_yticklabels([configs[i] for i in config_set])\n",
    "\n",
    "    handles, labels = ax1.get_legend_handles_labels()\n",
    "    ax1.legend(handles, labels, prop={'size': 7})\n",
    "\n",
    "if ax2:\n",
    "    ax2.set_xlim(91, 96)\n",
    "\n",
    "    #handles, labels = ax1.get_legend_handles_labels()\n",
    "    #ax1.legend(handles, labels)\n",
    "    handles, labels = ax2.get_legend_handles_labels()\n",
    "    ax2.legend(handles, labels, prop={'size': 7})\n",
    "\n",
    "\n",
    "plt.savefig(\"/Users/arbeit/tmp/fig-grid-c.pdf\", transparent=True, bbox_inches='tight')\n"
   ]
  },
  {
   "cell_type": "code",
   "execution_count": 311,
   "metadata": {},
   "outputs": [
    {
     "data": {
      "text/plain": [
       "array([[92.01, 93.06, 93.81, 91.21, 94.07, 93.84, 93.24, 94.68, 93.82],\n",
       "       [93.56, 93.59, 94.2 , 91.97, 94.27, 94.  , 94.33, 95.  , 94.5 ],\n",
       "       [93.21, 93.39, 94.58, 91.58, 94.6 , 94.06, 94.79, 95.04, 94.45],\n",
       "       [92.49, 93.5 , 93.85, 91.49, 94.39, 94.22, 94.1 , 95.16, 94.42],\n",
       "       [93.53, 93.85, 94.59, 91.82, 94.79, 94.6 , 94.39, 94.86, 94.61],\n",
       "       [93.61, 93.88, 94.93, 92.19, 94.69, 94.65, 94.73, 95.05, 94.61],\n",
       "       [92.83, 93.38, 94.17, 91.63, 94.23, 94.05, 93.74, 94.96, 94.56],\n",
       "       [92.59, 93.07, 94.11, 91.81, 94.18, 94.07, 94.19, 95.03, 94.59],\n",
       "       [93.15, 93.25, 93.7 , 91.59, 94.52, 94.24, 94.53, 95.3 , 94.76],\n",
       "       [94.14, 93.98, 94.85, 91.64, 95.01, 94.47, 95.07, 95.79, 95.32],\n",
       "       [92.95, 94.03, 94.48, 94.09, 94.47, 94.17, 93.41, 94.37, 94.36]])"
      ]
     },
     "execution_count": 311,
     "metadata": {},
     "output_type": "execute_result"
    }
   ],
   "source": [
    "data_blk"
   ]
  },
  {
   "cell_type": "code",
   "execution_count": 314,
   "metadata": {},
   "outputs": [
    {
     "data": {
      "text/plain": [
       "array([93.59, 94.27, 94.  ])"
      ]
     },
     "execution_count": 314,
     "metadata": {},
     "output_type": "execute_result"
    }
   ],
   "source": [
    "data_blk[1, [1, 4, 5]]"
   ]
  },
  {
   "cell_type": "code",
   "execution_count": 336,
   "metadata": {},
   "outputs": [
    {
     "data": {
      "text/plain": [
       "array([[ 0.51, -0.26,  0.2 ,  0.18,  0.63,  0.47,  0.01,  0.74,  0.61],\n",
       "       [ 0.86,  0.5 ,  0.63,  0.82,  0.16,  0.67,  0.79,  0.35,  0.77],\n",
       "       [ 0.79,  0.11,  0.55,  0.29,  0.43,  0.4 ,  0.99,  0.45,  0.64],\n",
       "       [-0.1 ,  0.67, -0.23,  0.06,  0.46,  0.6 ,  0.42,  0.56,  0.01],\n",
       "       [ 0.93,  0.15,  0.48,  0.17,  0.49,  0.7 ,  0.12,  0.19,  0.47],\n",
       "       [ 0.24,  0.08,  0.74,  0.6 ,  0.53,  0.29,  0.44,  0.53,  0.66],\n",
       "       [ 0.51,  0.42,  0.15,  0.73,  0.58,  0.28,  0.14,  0.35,  0.28],\n",
       "       [ 0.33, -0.04,  0.46,  0.46,  0.36,  0.47,  0.32,  0.18,  0.32],\n",
       "       [ 0.16, -0.13, -0.31,  0.09,  0.5 ,  0.36,  0.54,  0.22,  0.42],\n",
       "       [ 0.82,  0.25,  0.07, -0.07,  0.36, -0.11,  0.47,  0.28,  0.41],\n",
       "       [ 0.04, -0.16,  0.04,  0.05,  0.18,  0.14,  0.15,  0.02,  0.11]])"
      ]
     },
     "execution_count": 336,
     "metadata": {},
     "output_type": "execute_result"
    }
   ],
   "source": [
    "(data_blk - data_blkx)"
   ]
  },
  {
   "cell_type": "code",
   "execution_count": 26,
   "metadata": {},
   "outputs": [
    {
     "data": {
      "text/plain": [
       "array([[1, 2, 3],\n",
       "       [4, 5, 6]])"
      ]
     },
     "execution_count": 26,
     "metadata": {},
     "output_type": "execute_result"
    }
   ],
   "source": [
    "np.array([[1, 2, 3], [4, 5, 6]])"
   ]
  },
  {
   "cell_type": "code",
   "execution_count": 37,
   "metadata": {},
   "outputs": [
    {
     "data": {
      "text/plain": [
       "array([2., 5.])"
      ]
     },
     "execution_count": 37,
     "metadata": {},
     "output_type": "execute_result"
    }
   ],
   "source": [
    "np.mean(np.array([[1, 2, 3], [4, 5, 6]]), axis=1)"
   ]
  },
  {
   "cell_type": "code",
   "execution_count": 101,
   "metadata": {},
   "outputs": [
    {
     "name": "stdout",
     "output_type": "stream",
     "text": [
      "Tiling & Inception-v3 & EfficientNet-B1 & EfficientNet-B2\n",
      "$0.3/-$ & 91.06 & 91.36 & \\textbf{91.63}\\\\\n",
      "$0.6/h$ & 91.42 & \\textbf{92.01} & 91.70\\\\\n",
      "$0.9/v$ & 91.19 & 91.84 & \\textbf{91.86}\\\\\n",
      "$1.1/h$ & 82.80 & 83.17 & \\textbf{83.34}\\\\\n",
      "$1.1/v$ & 90.69 & \\textbf{91.09} & 91.04\\\\\n",
      "$1.1/hv$ & 90.96 & 91.08 & \\textbf{91.15}\\\\\n",
      "$1.1/-$ & 89.99 & \\textbf{91.18} & 91.07\\\\\n",
      "$3.0/v$ & 91.21 & 91.64 & \\textbf{91.70}\\\\\n",
      "$3.9/hv$ & 89.84 & 90.21 & \\textbf{90.27}\n"
     ]
    }
   ],
   "source": [
    "import numpy as np\n",
    "what = \"sep-matthews\"\n",
    "data = np.array(all_scores[what])\n",
    "\n",
    "import collections\n",
    "backbones = collections.defaultdict(int)\n",
    "for row in data.T:\n",
    "    backbones[np.argmax(row)] += max(row)\n",
    "backbones = sorted(list(backbones.items()), key=lambda x: x[1])\n",
    "#print(backbones)\n",
    "indices = list(map(lambda x: x[0], backbones))\n",
    "names = [all_names[what][i] for i in indices]\n",
    "\n",
    "\n",
    "by_median = [all_names[what][i] for i in np.argsort(np.median(data, axis=1))]\n",
    "while len(names) < 3:\n",
    "    if by_median[-1] not in names:\n",
    "        names = [by_median[-1]] + names\n",
    "    by_median = by_median[:-1]\n",
    "\n",
    "names = names[-3:]\n",
    "scores = np.array([all_scores[what][all_names[what].index(n)] for n in names])\n",
    "\n",
    "rows = []\n",
    "for i, row in enumerate(scores.T):\n",
    "    best = max(row)\n",
    "    def fmt(x):\n",
    "        if best == x:\n",
    "            return \"\\\\textbf{%.2f}\" % x\n",
    "        else:\n",
    "            return \"%.2f\" % x\n",
    "    rows.append(\" & \".join([\"$%s$\" % configs[i]] + list(map(fmt, row))))\n",
    "    \n",
    "print(\" & \".join([\"Tiling\"] + [official_backbone_names[x] for x in names]))\n",
    "print(\"\\\\\\\\\\n\".join(rows))"
   ]
  },
  {
   "cell_type": "code",
   "execution_count": 15,
   "metadata": {},
   "outputs": [
    {
     "name": "stdout",
     "output_type": "stream",
     "text": [
      "Tiling & ResNet-34 & SE-ResNet-34 & ResNet-50 & SE-ResNet-50\n",
      "$0.3/-$ & \\textbf{92.70} & 92.59 & 92.42 & 92.60\\\\\n",
      "$0.6/h$ & 93.09 & 92.83 & 93.28 & \\textbf{93.70}\\\\\n",
      "$0.9/v$ & 93.57 & 94.08 & 94.03 & \\textbf{94.11}\\\\\n",
      "$1.1/h$ & 91.15 & 91.43 & 91.29 & \\textbf{91.65}\\\\\n",
      "$1.1/v$ & 94.11 & 93.93 & 94.17 & \\textbf{94.30}\\\\\n",
      "$1.1/hv$ & 93.33 & 93.62 & 93.66 & \\textbf{93.90}\\\\\n",
      "$1.1/-$ & 93.54 & 93.68 & 93.80 & \\textbf{94.27}\\\\\n",
      "$3.0/v$ & 94.65 & 94.60 & 94.59 & \\textbf{94.67}\\\\\n",
      "$3.9/hv$ & 93.73 & \\textbf{94.41} & 93.81 & 94.14\n"
     ]
    }
   ],
   "source": [
    "# FIXME do a plot here?\n",
    "\n",
    "import numpy as np\n",
    "what = \"blkx-matthews\"\n",
    "data = np.array(all_scores[what])\n",
    "\n",
    "names = [\"resnet34\", \"seresnet34\", \"resnet50\", \"seresnet50\"]\n",
    "scores = np.array([all_scores[what][all_names[what].index(n)] for n in names])\n",
    "\n",
    "rows = []\n",
    "for i, row in enumerate(scores.T):\n",
    "    best = max(row)\n",
    "    def fmt(x):\n",
    "        if best == x:\n",
    "            return \"\\\\textbf{%.2f}\" % x\n",
    "        else:\n",
    "            return \"%.2f\" % x\n",
    "    rows.append(\" & \".join([\"$%s$\" % configs[i]] + list(map(fmt, row))))\n",
    "    \n",
    "print(\" & \".join([\"Tiling\"] + [official_backbone_names[x] for x in names]))\n",
    "print(\"\\\\\\\\\\n\".join(rows))"
   ]
  },
  {
   "cell_type": "code",
   "execution_count": 42,
   "metadata": {},
   "outputs": [
    {
     "data": {
      "image/png": "[encoded data removed]",
      "text/plain": [
       "<Figure size 288x576 with 2 Axes>"
      ]
     },
     "metadata": {
      "needs_background": "light"
     },
     "output_type": "display_data"
    }
   ],
   "source": [
    "import matplotlib.pyplot as plt\n",
    "import matplotlib\n",
    "import matplotlib.gridspec as gridspec\n",
    "import numpy as np\n",
    "\n",
    "plt.rcParams.update({'font.size': 10})\n",
    "matplotlib.rcParams['font.serif'] = \"Times New Roman\"\n",
    "matplotlib.rcParams['font.family'] = \"serif\"\n",
    "\n",
    "ordering = [\n",
    "    'resnet34',\n",
    "    'seresnet34',\n",
    "    'resnet50',\n",
    "    'seresnet50',\n",
    "    'seresnext50',\n",
    "    'vgg16',\n",
    "    'efficientnetb1',\n",
    "    'efficientnetb2',\n",
    "    'inceptionv3',\n",
    "    'inceptionresnetv2',\n",
    "    'dhSegment']\n",
    "reordering = np.array([all_names[\"blkx-matthews\"].index(n) for n in ordering])\n",
    "\n",
    "ax0, ax1, ax2 = None, None, None\n",
    "#f, axs = plt.subplots(1, 2, sharey=False, figsize=(4, 4))\n",
    "#ax1, ax2 = axs\n",
    "f, (ax1, ax2) = plt.subplots(2, 1, sharex=True, figsize=(4, 8))\n",
    "f.subplots_adjust(hspace=0.1)\n",
    "\n",
    "#fig = plt.figure(constrained_layout=True, figsize=(4, 5))\n",
    "#gs = fig.add_gridspec(3, 1)\n",
    "#ax0 = fig.add_subplot(gs[0, :])\n",
    "#ax1 = fig.add_subplot(gs[1:, :], sharex=ax0)\n",
    "\n",
    "#f, (ax1, ax2) = plt.subplots(1, 2, sharey=False, figsize=(12, 6))\n",
    "\n",
    "for task, ax in ((\"sep-matthews\", ax1), (\"blkx-matthews\", ax2)):\n",
    "    \n",
    "    for i, what in enumerate([\"v\", \"h\", \"hv\"]):\n",
    "        if what == \"v\":\n",
    "            #sel = np.array([0, 1, 2])\n",
    "            sel = np.array([2, 4, 7])\n",
    "            #sel = np.array([0, 2, 4, 5, 6, 7, 8])\n",
    "        elif what == \"h\":\n",
    "            #sel = np.array([3, 4, 5, 6, 7, 8])\n",
    "            sel = np.array([1, 3])\n",
    "            #sel = np.array([1, 2, 3, 4, 5, 7, 8])\n",
    "        elif what == \"hv\":\n",
    "            sel = np.array([5, 8])\n",
    "        x_pos = np.array(range(len(all_names[task]))) + i * 0.3\n",
    "        #data_blk = np.array(all_scores[\"blk-matthews\"])\n",
    "        data = np.array(all_scores[task])[:, sel]\n",
    "        #diff = (data_blk - data_blkx)[:, sel]\n",
    "        median = np.median(data, axis=1)[reordering]\n",
    "        err = [np.abs(np.min(data, axis=1)[reordering] - median),\n",
    "            np.max(data, axis=1)[reordering] - median]\n",
    "        #print(err)\n",
    "        ax.errorbar(x_pos, median, err,\n",
    "            marker='+', fmt='+', lw=2, alpha=0.75, label=what)\n",
    "        #ax0.bar(x_pos, blkx_decrease, align='center', alpha=1, width=0.5, label=what.split(\"-\")[0])\n",
    "\n",
    "#ax0.set_ylabel('MCC*')\n",
    "\n",
    "ax2.set_xticks(x_pos)\n",
    "ax2.set_xticklabels([official_names[i] for i in reordering], rotation=45, ha=\"right\")\n",
    "#ax1.set_yscale(\"log\")\n",
    "\n",
    "#ax1.set_xticks(x_pos)\n",
    "#ax1.set_xticklabels([official_names[i] for i in reordering], rotation=45, ha=\"right\")\n",
    "ax1.set_ylabel('MCC*')\n",
    "ax2.set_ylabel('MCC*')\n",
    "\n",
    "handles, labels = ax.get_legend_handles_labels()\n",
    "#if task == \"sep-matthews\":\n",
    "ax1.legend(handles, labels, loc=\"lower left\", ncol=3)\n",
    "#ax2.set_ylim(90, 96)\n",
    "ax2.legend(handles, labels, loc=\"lower right\", ncol=3)\n",
    "\n",
    "#ax1.relim()\n",
    "#ax1.autoscale()\n",
    "\n",
    "plt.savefig(\"/Users/arbeit/tmp/fig-grid-tiling.pdf\", transparent=True, bbox_inches='tight')\n",
    "\n",
    "#import tikzplotlib\n",
    "#tikzplotlib.save(\"/Users/arbeit/tmp/ieee1.tex\")"
   ]
  },
  {
   "cell_type": "code",
   "execution_count": null,
   "metadata": {},
   "outputs": [],
   "source": []
  }
 ],
 "metadata": {
  "kernelspec": {
   "display_name": "Python 3",
   "language": "python",
   "name": "python3"
  },
  "language_info": {
   "codemirror_mode": {
    "name": "ipython",
    "version": 3
   },
   "file_extension": ".py",
   "mimetype": "text/x-python",
   "name": "python",
   "nbconvert_exporter": "python",
   "pygments_lexer": "ipython3",
   "version": "3.8.1"
  }
 },
 "nbformat": 4,
 "nbformat_minor": 4
}
