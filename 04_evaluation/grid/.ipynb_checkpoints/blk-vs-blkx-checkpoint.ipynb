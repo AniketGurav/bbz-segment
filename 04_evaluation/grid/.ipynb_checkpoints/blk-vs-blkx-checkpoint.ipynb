{
 "cells": [
  {
   "cell_type": "code",
   "execution_count": 1,
   "metadata": {},
   "outputs": [],
   "source": [
    "blk_data = \"\"\"\n",
    "vgg16, 92.01, 93.06, 93.81, 91.21, 94.07, 93.84, 93.24, 94.68, 93.82\n",
    "resnet34, 93.56, 93.59, 94.20, 91.97, 94.27, 94.00, 94.33, 95.00, 94.50\n",
    "resnet50, 93.21, 93.39, 94.58, 91.58, 94.60, 94.06, 94.79, 95.04, 94.45\n",
    "seresnet34, 92.49, 93.50, 93.85, 91.49, 94.39, 94.22, 94.10, 95.16, 94.42\n",
    "seresnet50, 93.53, 93.85, 94.59, 91.82, 94.79, 94.60, 94.39, 94.86, 94.61\n",
    "seresnext50, 93.61, 93.88, 94.93, 92.19, 94.69, 94.65, 94.73, 95.05, 94.61\n",
    "efficientnetb1, 92.83, 93.38, 94.17, 91.63, 94.23, 94.05, 93.74, 94.96, 94.56\n",
    "efficientnetb2, 92.59, 93.07, 94.11, 91.81, 94.18, 94.07, 94.19, 95.03, 94.59\n",
    "inceptionv3, 93.15, 93.25, 93.70, 91.59, 94.52, 94.24, 94.53, 95.30, 94.76\n",
    "inceptionresnetv2, 94.14, 93.98, 94.85, 91.64, 95.01, 94.47, 95.07, 95.79, 95.32\n",
    "dhSegment, 92.95, 94.03, 94.48, 94.09, 94.47, 94.17, 93.41, 94.37, 94.36\n",
    "\"\"\"\n",
    "blkx_data = \"\"\"\n",
    "vgg16, 91.50, 93.32, 93.61, 91.03, 93.44, 93.37, 93.23, 93.94, 93.21\n",
    "resnet34, 92.70, 93.09, 93.57, 91.15, 94.11, 93.33, 93.54, 94.65, 93.73\n",
    "resnet50, 92.42, 93.28, 94.03, 91.29, 94.17, 93.66, 93.80, 94.59, 93.81\n",
    "seresnet34, 92.59, 92.83, 94.08, 91.43, 93.93, 93.62, 93.68, 94.60, 94.41\n",
    "seresnet50, 92.60, 93.70, 94.11, 91.65, 94.30, 93.90, 94.27, 94.67, 94.14\n",
    "seresnext50, 93.37, 93.80, 94.19, 91.59, 94.16, 94.36, 94.29, 94.52, 93.95\n",
    "efficientnetb1, 92.32, 92.96, 94.02, 90.90, 93.65, 93.77, 93.60, 94.61, 94.28\n",
    "efficientnetb2, 92.26, 93.11, 93.65, 91.35, 93.82, 93.60, 93.87, 94.85, 94.27\n",
    "inceptionv3, 92.99, 93.38, 94.01, 91.50, 94.02, 93.88, 93.99, 95.08, 94.34\n",
    "inceptionresnetv2, 93.32, 93.73, 94.78, 91.71, 94.65, 94.58, 94.60, 95.51, 94.91\n",
    "dhSegment, 92.91, 94.19, 94.44, 94.04, 94.29, 94.03, 93.26, 94.35, 94.25\n",
    "\"\"\"\n",
    "\n",
    "import numpy as np\n",
    "\n",
    "def parse_data(s):\n",
    "    data = []\n",
    "    names = []\n",
    "    for line in s.split(\"\\n\"):\n",
    "        if line:\n",
    "            x = line.split(\",\")\n",
    "            names.append(x[0])\n",
    "            data.append(tuple(map(float, x[1:])))\n",
    "    return names, np.array(data)\n",
    "        \n",
    "names, blk_mat = parse_data(blk_data)\n",
    "_, blkx_mat = parse_data(blkx_data)"
   ]
  },
  {
   "cell_type": "code",
   "execution_count": 2,
   "metadata": {},
   "outputs": [
    {
     "name": "stdout",
     "output_type": "stream",
     "text": [
      "dhSegment 0.05\n",
      "inceptionv3 0.22\n",
      "inceptionresnetv2 0.28\n",
      "efficientnetb2 0.33\n",
      "efficientnetb1 0.35\n",
      "seresnet34 0.42\n",
      "resnet50 0.45\n",
      "vgg16 0.47\n",
      "seresnet50 0.47\n",
      "seresnext50 0.53\n",
      "resnet34 0.67\n"
     ]
    }
   ],
   "source": [
    "abl1 = []\n",
    "for i, n in enumerate(names):\n",
    "    abl1.append((n, \"%.2f\" % (np.median(blk_mat[i] - blkx_mat[i]))))\n",
    "abl1 = sorted(abl1, key=lambda x: x[1])\n",
    "for n, x in abl1:\n",
    "    print(n, x)"
   ]
  },
  {
   "cell_type": "code",
   "execution_count": 94,
   "metadata": {},
   "outputs": [
    {
     "data": {
      "image/png": "[encoded data removed]",
      "text/plain": [
       "<Figure size 432x288 with 1 Axes>"
      ]
     },
     "metadata": {
      "needs_background": "light"
     },
     "output_type": "display_data"
    }
   ],
   "source": [
    "abl1 = []\n",
    "\n",
    "cnames = [\"s0\", \"s1/h\", \"s2/v\", \"s3/h\", \"s3/v\", \"s3/hv\", \"s3\", \"s4/v\", \"s5/hv\"]\n",
    "\n",
    "sel_untiled = np.array([0, 6])\n",
    "sel_v = np.array([2, 4, 7])\n",
    "sel_h = np.array([1, 3])\n",
    "sel_hv = np.array([5, 8])\n",
    "\n",
    "def filtered(x):\n",
    "    #what = np.array([0, 6])  # untiled\n",
    "    what = np.array([2, 4, 7])  # v\n",
    "    #what = np.array([0, 2, 4, 6, 7])\n",
    "    return x[what]\n",
    "\n",
    "def get_var(sel):\n",
    "    r = np.median((blkx_mat[:, sel] - blk_mat[:, sel]) / blk_mat[:, sel])\n",
    "    return r * 100\n",
    "               \n",
    "#abl1 = sorted(abl1, key=lambda x: x[1])\n",
    "#for n, x in abl1:\n",
    " #   print(n, \"%.2f\" % x)\n",
    "    \n",
    "#colors = list(map(lambda x: backbone_color(x[0]), abl1))\n",
    "    \n",
    "import matplotlib.pyplot as plt\n",
    "\n",
    "performance = [get_var(sel_untiled), get_var(sel_v), get_var(sel_h), get_var(sel_hv)]\n",
    "y_pos = np.arange(len(performance))\n",
    "\n",
    "plt.bar(y_pos, performance, align='center', alpha=0.5)\n",
    "\n",
    "\n",
    "plt.xticks(y_pos, [\"untiled\", \"v\", \"h\", \"hv\"], rotation='vertical')\n",
    "#plt.ylabel('Relative MCC')\n",
    "#plt.title('Programming language usage')\n",
    "\n",
    "plt.show()"
   ]
  },
  {
   "cell_type": "code",
   "execution_count": 1,
   "metadata": {},
   "outputs": [],
   "source": [
    "import json\n",
    "import numpy as np\n",
    "import collections\n",
    "import re\n",
    "import os\n",
    "import sys\n",
    "import matplotlib.pyplot as plt\n",
    "import tikzplotlib\n",
    "import math\n",
    "\n",
    "from pathlib import Path\n",
    "\n",
    "Configuration = collections.namedtuple('Configuration', [\n",
    "\t'tiling', 'backbone', 'model', 'labels', 'fold', 'partial'])\n",
    "\n",
    "\n",
    "Tiling = collections.namedtuple('Tiling', [\n",
    "\t'full_size', 'tile_size'])\n",
    "\n",
    "\n",
    "Result = collections.namedtuple('Result', [\n",
    "\t'best', 'items'])\n",
    "\n",
    "\n",
    "Value = collections.namedtuple('Value', [\n",
    "\t'x', 'err', 'n'])\n",
    "\n",
    "\n",
    "def gather_data(path, data):\n",
    "\tif (path / \"config.json\").exists():\n",
    "\t\twith open(path / \"config.json\", \"r\") as f:\n",
    "\t\t\tconfig = json.loads(f.read())\n",
    "\n",
    "\t\tmatch = re.match(\n",
    "\t\t\tr\"layout_(\\d+)x(\\d+)(_T(\\d+)x(\\d+))?\",\n",
    "\t\t\tconfig[\"data_name\"])\n",
    "\t\tassert match\n",
    "\n",
    "\t\t# for the moment, only use fold 1. don't mix with other folds.\n",
    "\t\tif int(config[\"fold\"]) != 1:\n",
    "\t\t\treturn\n",
    "\n",
    "\t\tif config.get(\"illustrations\", False):\n",
    "\t\t\tconfig[\"labels\"] = \"blkx\"\n",
    "\t\telif config[\"labels\"] == \"txt\":\n",
    "\t\t\tconfig[\"labels\"] = \"blk\"\n",
    "\n",
    "\t\tkey = Configuration(\n",
    "\t\t\tTiling((int(match.group(1)), int(match.group(2))),\n",
    "\t\t\t\t(int(match.group(4)), int(match.group(5))) if match.group(3) else None),\n",
    "\t\t\tconfig[\"backbone\"],\n",
    "\t\t\tconfig[\"model\"],\n",
    "\t\t\tconfig[\"labels\"],\n",
    "\t\t\tint(config[\"fold\"]),\n",
    "\t\t\tfloat(config[\"partial\"]))\n",
    "\t\tn_epochs = config[\"epochs\"]\n",
    "\n",
    "\t\twith open(path / \"metrics.json\", \"r\") as f:\n",
    "\t\t\tmetrics = json.loads(f.read())\n",
    "\n",
    "\t\tdecider_metric = \"val_matthews\"\n",
    "\t\tval_metric_prefix = \"val_\"\n",
    "\n",
    "\t\tif decider_metric in metrics:\n",
    "\t\t\tdecider_metric_values = metrics[decider_metric][\"values\"]\n",
    "\t\telse:\n",
    "\t\t\tdecider_metric_values = []\n",
    "\n",
    "\t\tif len(decider_metric_values) != n_epochs:\n",
    "\t\t\tprint(\"skipped incomplete %s\" % str(path))\n",
    "\t\t\treturn\n",
    "\n",
    "\t\tbest_model_epoch = np.argmax(np.array(decider_metric_values))\n",
    "\n",
    "\t\tbest_model_metrics = dict()\n",
    "\t\tfor k, v in metrics.items():\n",
    "\t\t\tif k.startswith(val_metric_prefix):\n",
    "\t\t\t\tbest_model_metrics[k] = v[\"values\"][best_model_epoch]\n",
    "\n",
    "\t\tdata[key] = best_model_metrics\n",
    "\n",
    "\telse:\n",
    "\t\tfor p in path.iterdir():\n",
    "\t\t\tif p.is_dir():\n",
    "\t\t\t\tgather_data(p, data)\n",
    "\n",
    "def partial_plot(data_path, plt):\n",
    "    #script_dir = Path(os.path.dirname(os.path.realpath(__file__)))\n",
    "\n",
    "    n_training_pages = 104 - 21\n",
    "\n",
    "    for runs_path in data_path.iterdir():\n",
    "\n",
    "        if not runs_path.is_dir():\n",
    "            continue\n",
    "\n",
    "        data = dict()\n",
    "        gather_data(runs_path, data)\n",
    "\n",
    "        default_key = list(data.keys())[0]\n",
    "\n",
    "        for mode in ('blkx', 'blk', 'sep'):\n",
    "\n",
    "            table = []\n",
    "\n",
    "            for i_partial in range(0, 11):\n",
    "                partial = i_partial / 10\n",
    "\n",
    "                key = Configuration(\n",
    "                    default_key.tiling,\n",
    "                    default_key.backbone,\n",
    "                    default_key.model,\n",
    "                    mode,\n",
    "                    int(1),\n",
    "                    partial)\n",
    "\n",
    "                if key in data:\n",
    "                    table.append((partial, data[key][\"val_matthews\"]))\n",
    "\n",
    "            if table:\n",
    "                if False:\n",
    "                    print(\"%s: {\" % mode)\n",
    "                    for k, v in table:\n",
    "                        print(\"{%.2f, %.2f},\" % (k, v * 100))\n",
    "                    print(\"}\")\n",
    "\n",
    "                t = []\n",
    "                y = []\n",
    "                for k, v in table:\n",
    "                    t.append(math.floor(k * n_training_pages))\n",
    "                    y.append(v * 100)\n",
    "                plt.plot(t, y, \"+-\", lw=4.1/2, label=mode)\n",
    "\n",
    "    plt.set_xlabel(\"Number of Training Pages\")\n",
    "    plt.set_ylabel(\"MCC*\")\n",
    "    plt.legend(loc=\"lower right\")\n",
    "    \n",
    "    return plt\n"
   ]
  },
  {
   "cell_type": "code",
   "execution_count": 3,
   "metadata": {},
   "outputs": [
    {
     "data": {
      "text/plain": [
       "Text(0, 0.5, 'Quality (MCC)')"
      ]
     },
     "execution_count": 3,
     "metadata": {},
     "output_type": "execute_result"
    },
    {
     "data": {
      "image/png": "[encoded data removed]",
      "text/plain": [
       "<Figure size 864x432 with 2 Axes>"
      ]
     },
     "metadata": {
      "needs_background": "light"
     },
     "output_type": "display_data"
    }
   ],
   "source": [
    "abl1 = []\n",
    "\n",
    "cnames = [\"s0\", \"s1/h\", \"s2/v\", \"s3/h\", \"s3/v\", \"s3/hv\", \"s3\", \"s4/v\", \"s5/hv\"]\n",
    "\n",
    "f, (ax1, ax2) = plt.subplots(1, 2, sharey=False, figsize=(12, 6))\n",
    "\n",
    "def backbone_color(name):\n",
    "    if \"inception\" in name:\n",
    "        return \"limegreen\"\n",
    "    elif \"efficientnet\" in name:\n",
    "        return \"darkviolet\"\n",
    "    elif \"vgg\" in name:\n",
    "        return \"peru\"\n",
    "    else:\n",
    "        return \"lightblue\"\n",
    "    \n",
    "def filtered(x):\n",
    "    #what = np.array([4, 6, 7, 5, 8, 1, 3])  # tiled\n",
    "\n",
    "    #what = np.array([0, 6])  # untiled\n",
    "    #what = np.array([2, 4, 7])  # v\n",
    "    #what = np.array([0, 2, 4, 6, 7])\n",
    "    #what = np.array([1, 3])\n",
    "    #return x[what]\n",
    "    return x\n",
    "\n",
    "for i, n in enumerate(names):\n",
    "    if n != \"dhSegment\":\n",
    "        #r = (filtered(blkx_mat[i]) - filtered(blk_mat[i]))  # / filtered(blk_mat[i])\n",
    "        #abl1.append((n, np.mean(r), (np.max(r) - np.min(r)) / 2))\n",
    "        #r = r * 100\n",
    "        r1 = blk_mat[i]\n",
    "        r2 = blkx_mat[i]\n",
    "        abl1.append((n, np.mean(r1), (np.max(r1) - np.min(r1)) / 2,\n",
    "            np.mean(r2), (np.max(r2) - np.min(r2)) / 2))\n",
    "\n",
    "        #mins.append(np.min(r))\n",
    "        #maxs.append(np.max(r))\n",
    "        #means.append(np.mean(r))\n",
    "        \n",
    "abl1 = sorted(abl1, key=lambda x: x[1] - x[3])\n",
    "#for n, x in abl1:\n",
    " #   print(n, \"%.2f\" % x)\n",
    "    \n",
    "colors = list(map(lambda x: backbone_color(x[0]), abl1))\n",
    "    \n",
    "import matplotlib.pyplot as plt\n",
    "\n",
    "y_pos = np.arange(len(abl1))\n",
    "\n",
    "#plt.bar(y_pos, performance, align='center', alpha=0.5)\n",
    "ax1.errorbar(y_pos, list(map(lambda x: x[1], abl1)), list(map(lambda x: x[2], abl1)),\n",
    "    marker='+', fmt='+', ecolor=colors, color=\"black\", lw=4.1 / 2)\n",
    "\n",
    "eb = ax1.errorbar(y_pos + 0.3, list(map(lambda x: x[3], abl1)), list(map(lambda x: x[4], abl1)),\n",
    "    marker='+', fmt='+', ecolor=colors, color=\"black\", lw=4.1)\n",
    "#eb[-1][0].set_linestyle('--')\n",
    "\n",
    "# y_pos, \n",
    "ax1.set_xticks(y_pos)\n",
    "ax1.set_xticklabels(list(map(lambda x: x[0], abl1)), rotation='vertical')\n",
    "ax1.set_ylabel('Quality (MCC)')\n",
    "#plt.title('Programming language usage')\n",
    "\n",
    "#plt.show()\n",
    "\n",
    "#import tikzplotlib\n",
    "#tikzplotlib.save(\"/Users/arbeit/tmp/blk-blkx.tex\")\n"
   ]
  },
  {
   "cell_type": "code",
   "execution_count": 2,
   "metadata": {},
   "outputs": [
    {
     "name": "stdout",
     "output_type": "stream",
     "text": [
      "skipped incomplete /Users/arbeit/Projects/bbz-segment-dev/05_paper/evaluation/partial/data/blkx/16\n"
     ]
    },
    {
     "data": {
      "image/png": "[encoded data removed]",
      "text/plain": [
       "<Figure size 288x288 with 1 Axes>"
      ]
     },
     "metadata": {
      "needs_background": "light"
     },
     "output_type": "display_data"
    }
   ],
   "source": [
    "import matplotlib.pyplot as plt\n",
    "import matplotlib\n",
    "import numpy as np\n",
    "\n",
    "matplotlib.rcParams['ps.useafm'] = True\n",
    "matplotlib.rcParams['pdf.use14corefonts'] = True\n",
    "matplotlib.rcParams['text.usetex'] = False\n",
    "#matplotlib.rcParams['font.serif'] = \"Times-Roman\"\n",
    "matplotlib.rcParams['font.family'] = \"Times\"\n",
    "\n",
    "ax1, ax2 = None, None\n",
    "f, ax2 = plt.subplots(1, 1, sharey=False, figsize=(4, 4))\n",
    "\n",
    "partial_plot(Path(\"/Users/arbeit/Projects/bbz-segment-dev/05_paper/evaluation/partial/data\"), ax2)\n",
    "\n",
    "plt.savefig(\"/Users/arbeit/tmp/fig-partial.pdf\", transparent=True, bbox_inches='tight')"
   ]
  },
  {
   "cell_type": "code",
   "execution_count": 31,
   "metadata": {},
   "outputs": [
    {
     "name": "stdout",
     "output_type": "stream",
     "text": [
      "s1/h 0.11\n",
      "s3/h 0.18\n",
      "s2/v 0.20\n",
      "s4/v 0.35\n",
      "s3/hv 0.40\n",
      "s3 0.42\n",
      "s5/hv 0.42\n",
      "s3/v 0.46\n",
      "s0 0.51\n"
     ]
    }
   ],
   "source": [
    "cnames = [\"s0\", \"s1/h\", \"s2/v\", \"s3/h\", \"s3/v\", \"s3/hv\", \"s3\", \"s4/v\", \"s5/hv\"]\n",
    "\n",
    "abl2 = []\n",
    "for i, n in enumerate(cnames):\n",
    "    abl2.append((n, \"%.2f\" % (np.median(blk_mat[:, i] - blkx_mat[:, i]))))\n",
    "abl2 = sorted(abl2, key=lambda x: x[1])\n",
    "for n, x in abl2:\n",
    "    print(n, x)"
   ]
  },
  {
   "cell_type": "code",
   "execution_count": 34,
   "metadata": {},
   "outputs": [
    {
     "name": "stdout",
     "output_type": "stream",
     "text": [
      "h 0.15999999999998948\n",
      "v 0.36000000000001364\n",
      "hv 0.41499999999999915\n",
      " 0.4299999999999926\n"
     ]
    }
   ],
   "source": [
    "import collections\n",
    "\n",
    "ctile = [(n + \"/\").split(\"/\")[1] for n in cnames]\n",
    "\n",
    "abl3 = collections.defaultdict(list)\n",
    "for i, n in enumerate(ctile):\n",
    "    abl3[n].extend(list(blk_mat[:, i] - blkx_mat[:, i]))\n",
    "    \n",
    "abl4 = []\n",
    "for k, v in abl3.items():\n",
    "    abl4.append((k, np.median(v)))\n",
    "    \n",
    "abl4 = sorted(abl4, key=lambda x: x[1])\n",
    "for n, x in abl4:\n",
    "    print(n, x)"
   ]
  },
  {
   "cell_type": "code",
   "execution_count": 36,
   "metadata": {},
   "outputs": [
    {
     "name": "stdout",
     "output_type": "stream",
     "text": [
      "s1 0.11\n",
      "s2 0.20\n",
      "s4 0.35\n",
      "s3 0.41\n",
      "s5 0.42\n",
      "s0 0.51\n"
     ]
    }
   ],
   "source": [
    "import collections\n",
    "\n",
    "ctile = [(n + \"/\").split(\"/\")[0] for n in cnames]\n",
    "\n",
    "abl3 = collections.defaultdict(list)\n",
    "for i, n in enumerate(ctile):\n",
    "    abl3[n].extend(list(blk_mat[:, i] - blkx_mat[:, i]))\n",
    "    \n",
    "abl4 = []\n",
    "for k, v in abl3.items():\n",
    "    abl4.append((k, np.median(v)))\n",
    "    \n",
    "abl4 = sorted(abl4, key=lambda x: x[1])\n",
    "for n, x in abl4:\n",
    "    print(n, \"%.2f\" % x)"
   ]
  },
  {
   "cell_type": "code",
   "execution_count": null,
   "metadata": {},
   "outputs": [],
   "source": []
  }
 ],
 "metadata": {
  "kernelspec": {
   "display_name": "Python 3",
   "language": "python",
   "name": "python3"
  },
  "language_info": {
   "codemirror_mode": {
    "name": "ipython",
    "version": 3
   },
   "file_extension": ".py",
   "mimetype": "text/x-python",
   "name": "python",
   "nbconvert_exporter": "python",
   "pygments_lexer": "ipython3",
   "version": "3.8.1"
  }
 },
 "nbformat": 4,
 "nbformat_minor": 4
}
